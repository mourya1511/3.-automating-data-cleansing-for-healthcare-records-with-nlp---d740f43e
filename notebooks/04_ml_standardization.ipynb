{
  "cells": [
    {
      "cell_type": "markdown",
      "metadata": {},
      "source": [
        "# Step 4: Machine Learning Models for Standardization\n",
        "Using TextBlob for typo correction as a baseline ML model."
      ]
    },
    {
      "cell_type": "code",
      "metadata": {},
      "source": [
        "from textblob import TextBlob\n",
        "import pandas as pd\n",
        "\n",
        "df = pd.read_csv('../data/ehr_raw.csv')\n",
        "\n",
        "def correct_typo(text):\n",
        "    return str(TextBlob(text).correct())\n",
        "\n",
        "df['diagnosis_corrected'] = df['diagnosis_notes'].apply(correct_typo)\n",
        "df[['diagnosis_notes', 'diagnosis_corrected']].head()"
      ]
    }
  ],
  "metadata": {
    "kernelspec": {
      "display_name": "Python 3",
      "language": "python",
      "name": "python3"
    },
    "language_info": {
      "name": "python"
    }
  },
  "nbformat": 4,
  "nbformat_minor": 5
}