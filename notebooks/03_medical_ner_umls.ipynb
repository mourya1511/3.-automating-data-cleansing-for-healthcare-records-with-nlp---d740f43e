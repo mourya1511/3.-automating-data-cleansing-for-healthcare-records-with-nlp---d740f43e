{
  "cells": [
    {
      "cell_type": "markdown",
      "metadata": {},
      "source": [
        "# Step 3: Medical Entity Recognition and UMLS Linking\n",
        "Using scispaCy for entity extraction and linking to UMLS codes."
      ]
    },
    {
      "cell_type": "code",
      "metadata": {},
      "source": [
        "import spacy\n",
        "import scispacy\n",
        "from scispacy.umls_linking import UmlsEntityLinker\n",
        "import pandas as pd\n",
        "\n",
        "# Load dataset\n",
        "df = pd.read_csv('../data/ehr_raw.csv')\n",
        "\n",
        "# Load scispaCy model\n",
        "nlp = spacy.load('en_core_sci_md')\n",
        "\n",
        "# Add UMLS entity linker\n",
        "linker = UmlsEntityLinker()\n",
        "nlp.add_pipe(linker)\n",
        "\n",
        "def extract_entities(text):\n",
        "    doc = nlp(text)\n",
        "    entities = [(ent.text, ent._.umls_ents) for ent in doc.ents]\n",
        "    return entities\n",
        "\n",
        "def get_umls_codes(text):\n",
        "    doc = nlp(text)\n",
        "    codes = []\n",
        "    for ent in doc.ents:\n",
        "        if ent._.umls_ents:\n",
        "            codes.append(ent._.umls_ents[0][0])  # best match\n",
        "    return codes\n",
        "\n",
        "# Example usage on diagnosis_notes\n",
        "df['entities'] = df['diagnosis_notes'].apply(extract_entities)\n",
        "df['umls_codes'] = df['diagnosis_notes'].apply(get_umls_codes)\n",
        "\n",
        "df[['diagnosis_notes', 'entities', 'umls_codes']].head()"
      ]
    }
  ],
  "metadata": {
    "kernelspec": {
      "display_name": "Python 3",
      "language": "python",
      "name": "python3"
    },
    "language_info": {
      "name": "python"
    }
  },
  "nbformat": 4,
  "nbformat_minor": 5
}