{
  "cells": [
    {
      "cell_type": "markdown",
      "metadata": {},
      "source": [
        "# Step 2: Cleaning and Typo Correction Pipeline\n"
      ]
    },
    {
      "cell_type": "code",
      "metadata": {},
      "source": [
        "import pandas as pd\n",
        "from utils.cleaning_utils import clean_text\n",
        "from textblob import TextBlob\n",
        "\n",
        "# Load data\n",
        "df = pd.read_csv('../data/ehr_raw.csv')\n",
        "\n",
        "# Clean text\n",
        "df['diagnosis_notes_clean'] = df['diagnosis_notes'].apply(clean_text)\n",
        "df['medications_clean'] = df['medications'].apply(clean_text)\n",
        "\n",
        "# Typo correction function\n",
        "def correct_text(text):\n",
        "    return str(TextBlob(text).correct())\n",
        "\n",
        "# Apply typo correction to diagnosis notes (first 3 rows for speed)\n",
        "df['diagnosis_corrected'] = df['diagnosis_notes_clean'].apply(lambda x: correct_text(x))\n",
        "\n",
        "df[['diagnosis_notes', 'diagnosis_notes_clean', 'diagnosis_corrected']]"
      ]
    }
  ],
  "metadata": {
    "kernelspec": {
      "display_name": "Python 3",
      "language": "python",
      "name": "python3"
    },
    "language_info": {
      "name": "python"
    }
  },
  "nbformat": 4,
  "nbformat_minor": 5
}